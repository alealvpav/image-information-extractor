{
 "cells": [
  {
   "cell_type": "code",
   "execution_count": 18,
   "id": "529fbbfb-07a7-4a98-aef2-e2d11040214e",
   "metadata": {},
   "outputs": [
    {
     "name": "stdout",
     "output_type": "stream",
     "text": [
      "{322: 512, 323: 512, 34853: 2498, 296: 2, 34665: 240, 271: 'Apple', 272: 'iPhone 13', 305: '17.6.1', 274: 1, 306: '2024:11:02 11:05:33', 282: 72.0, 283: 72.0, 316: 'iPhone 13'}\n",
      "{\n",
      "    \"GPSAltitude\": \"9.50900630441309\",\n",
      "    \"GPSAltitudeRef\": \"b'\\\\x00'\",\n",
      "    \"GPSDateStamp\": \"2024:11:02\",\n",
      "    \"GPSDestBearing\": \"348.0748898678414\",\n",
      "    \"GPSDestBearingRef\": \"T\",\n",
      "    \"GPSImgDirection\": \"348.0748898678414\",\n",
      "    \"GPSImgDirectionRef\": \"T\",\n",
      "    \"GPSLatitude\": \"(37.0, 23.0, 9.3)\",\n",
      "    \"GPSLatitudeRef\": \"N\",\n",
      "    \"GPSLongitude\": \"(5.0, 58.0, 50.51)\",\n",
      "    \"GPSLongitudeRef\": \"W\",\n",
      "    \"GPSSpeed\": \"0.3699913318233929\",\n",
      "    \"GPSSpeedRef\": \"K\",\n",
      "    \"GPSTimeStamp\": \"(10.0, 5.0, 31.0)\"\n",
      "}\n"
     ]
    }
   ],
   "source": [
    "from PIL import Image\n",
    "from pillow_heif import register_heif_opener\n",
    "import json\n",
    "\n",
    "\n",
    "def get_exif(filename):\n",
    "    image = Image.open(filename)\n",
    "    image.verify()\n",
    "    print(image.getexif())\n",
    "    return image.getexif().get_ifd(0x8825)\n",
    "\n",
    "\n",
    "def get_geotagging(exif):\n",
    "    geo_tagging_info = {}\n",
    "    if not exif:\n",
    "        raise ValueError(\"No EXIF metadata found\")\n",
    "    else:\n",
    "        gps_keys = ['GPSVersionID', 'GPSLatitudeRef', 'GPSLatitude', 'GPSLongitudeRef', 'GPSLongitude',\n",
    "                    'GPSAltitudeRef', 'GPSAltitude', 'GPSTimeStamp', 'GPSSatellites', 'GPSStatus', 'GPSMeasureMode',\n",
    "                    'GPSDOP', 'GPSSpeedRef', 'GPSSpeed', 'GPSTrackRef', 'GPSTrack', 'GPSImgDirectionRef',\n",
    "                    'GPSImgDirection', 'GPSMapDatum', 'GPSDestLatitudeRef', 'GPSDestLatitude', 'GPSDestLongitudeRef',\n",
    "                    'GPSDestLongitude', 'GPSDestBearingRef', 'GPSDestBearing', 'GPSDestDistanceRef', 'GPSDestDistance',\n",
    "                    'GPSProcessingMethod', 'GPSAreaInformation', 'GPSDateStamp', 'GPSDifferential']\n",
    "\n",
    "        for k, v in exif.items():\n",
    "            try:\n",
    "                geo_tagging_info[gps_keys[k]] = str(v)\n",
    "            except IndexError:\n",
    "                pass\n",
    "        return geo_tagging_info\n",
    "\n",
    "\n",
    "register_heif_opener()\n",
    "\n",
    "my_image = 'images/IMG_5284.heic'\n",
    "image_info = get_exif(my_image)\n",
    "# print(json.dumps(image_info, sort_keys=True, indent=4))\n",
    "# print(image_info)\n",
    "\n",
    "results = get_geotagging(image_info)\n",
    "print(json.dumps(results, sort_keys=True, indent=4))\n"
   ]
  },
  {
   "cell_type": "code",
   "execution_count": 7,
   "id": "5ca07e7d-f319-40c4-909a-54b64cab722a",
   "metadata": {},
   "outputs": [
    {
     "data": {
      "text/plain": [
       "['IMG_5284.heic']"
      ]
     },
     "execution_count": 7,
     "metadata": {},
     "output_type": "execute_result"
    }
   ],
   "source": [
    "\"main\"\n",
    "import os\n",
    "\n",
    "images_dir = os.getcwd() + \"/images\"\n",
    "os.listdir(images_dir)"
   ]
  },
  {
   "cell_type": "code",
   "execution_count": 1,
   "id": "bc47826f-b6f9-4527-9df0-76afc3ae92fc",
   "metadata": {},
   "outputs": [
    {
     "name": "stdout",
     "output_type": "stream",
     "text": [
      ">>>>>>>>>>>>>>>>>> Base tags <<<<<<<<<<<<<<<<<<<<\n",
      "TileWidth 512\n",
      "TileLength 512\n",
      "GPSInfo 2498\n",
      "ResolutionUnit 2\n",
      "ExifOffset 240\n",
      "Make Apple\n",
      "Model iPhone 13\n",
      "Software 17.6.1\n",
      "Orientation 1\n",
      "DateTime 2024:11:02 11:05:33\n",
      "XResolution 72.0\n",
      "YResolution 72.0\n",
      "HostComputer iPhone 13\n",
      ">>>>>>>>> Exif <<<<<<<<<<\n",
      "ExifVersion b'0232'\n",
      "ShutterSpeedValue 5.643567676316084\n",
      "ApertureValue 1.3561438092556088\n",
      "DateTimeOriginal 2024:11:02 11:05:33\n",
      "DateTimeDigitized 2024:11:02 11:05:33\n",
      "BrightnessValue 1.0317155582859776\n",
      "ExposureBiasValue 0.0\n",
      "MeteringMode 5\n",
      "ColorSpace 65535\n",
      "Flash 16\n",
      "FocalLength 5.1\n",
      "ExifImageWidth 4032\n",
      "ExifImageHeight 3024\n",
      "DigitalZoomRatio 1.2652719665271968\n",
      "FocalLengthIn35mmFilm 32\n",
      "OffsetTime +01:00\n",
      "OffsetTimeOriginal +01:00\n",
      "OffsetTimeDigitized +01:00\n",
      "SubsecTimeOriginal 388\n",
      "SubjectLocation (901, 2147, 304, 305)\n",
      "SubsecTimeDigitized 388\n",
      "SensingMethod 2\n",
      "ExposureTime 0.02\n",
      "FNumber 1.6\n",
      "SceneType b'\\x01'\n",
      "ExposureProgram 2\n",
      "ISOSpeedRatings 320\n",
      "ExposureMode 0\n",
      "WhiteBalance 0\n",
      "LensSpecification (1.5399999618512084, 5.1, 1.6, 2.4)\n",
      "LensMake Apple\n",
      "LensModel iPhone 13 back dual wide camera 5.1mm f/1.6\n",
      "CompositeImage 2\n",
      "MakerNote b'Apple iOS\\x00\\x00\\x01MM\\x000\\x00\\x01\\x00\\t\\x00\\x00\\x00\\x01\\x00\\x00\\x00\\x0e\\x00\\x02\\x00\\x07\\x00\\x00\\x02\\x00\\x00\\x00\\x02T\\x00\\x03\\x00\\x07\\x00\\x00\\x00h\\x00\\x00\\x04T\\x00\\x04\\x00\\t\\x00\\x00\\x00\\x01\\x00\\x00\\x00\\x01\\x00\\x05\\x00\\t\\x00\\x00\\x00\\x01\\x00\\x00\\x00\\xc5\\x00\\x06\\x00\\t\\x00\\x00\\x00\\x01\\x00\\x00\\x00\\xc8\\x00\\x07\\x00\\t\\x00\\x00\\x00\\x01\\x00\\x00\\x00\\x01\\x00\\x08\\x00\\n\\x00\\x00\\x00\\x03\\x00\\x00\\x04\\xbc\\x00\\x0c\\x00\\n\\x00\\x00\\x00\\x02\\x00\\x00\\x04\\xd4\\x00\\r\\x00\\t\\x00\\x00\\x00\\x01\\x00\\x00\\x00\\x1d\\x00\\x0e\\x00\\t\\x00\\x00\\x00\\x01\\x00\\x00\\x00\\x00\\x00\\x10\\x00\\t\\x00\\x00\\x00\\x01\\x00\\x00\\x00\\x01\\x00\\x14\\x00\\t\\x00\\x00\\x00\\x01\\x00\\x00\\x00\\x0c\\x00\\x17\\x00\\x10\\x00\\x00\\x00\\x01\\x00\\x00\\x04\\xe4\\x00\\x19\\x00\\t\\x00\\x00\\x00\\x01\\x00\\x00 \\x02\\x00\\x1a\\x00\\x02\\x00\\x00\\x00\\x06\\x00\\x00\\x04\\xec\\x00\\x1f\\x00\\t\\x00\\x00\\x00\\x01\\x00\\x00\\x00\\x00\\x00 \\x00\\x02\\x00\\x00\\x00%\\x00\\x00\\x04\\xf2\\x00!\\x00\\n\\x00\\x00\\x00\\x01\\x00\\x00\\x05\\x17\\x00#\\x00\\t\\x00\\x00\\x00\\x02\\x00\\x00\\x05\\x1f\\x00%\\x00\\x10\\x00\\x00\\x00\\x01\\x00\\x00\\x05\\'\\x00&\\x00\\t\\x00\\x00\\x00\\x01\\x00\\x00\\x00\\x03\\x00\\'\\x00\\n\\x00\\x00\\x00\\x01\\x00\\x00\\x05/\\x00+\\x00\\x02\\x00\\x00\\x00%\\x00\\x00\\x057\\x00-\\x00\\t\\x00\\x00\\x00\\x01\\x00\\x00\\x11\\x0e\\x00.\\x00\\t\\x00\\x00\\x00\\x01\\x00\\x00\\x00\\x01\\x00/\\x00\\t\\x00\\x00\\x00\\x01\\x00\\x00\\x00<\\x000\\x00\\n\\x00\\x00\\x00\\x01\\x00\\x00\\x05\\\\\\x003\\x00\\t\\x00\\x00\\x00\\x01\\x00\\x000\\x00\\x004\\x00\\t\\x00\\x00\\x00\\x01\\x00\\x00\\x00\\x05\\x005\\x00\\t\\x00\\x00\\x00\\x01\\x00\\x00\\x00\\x04\\x006\\x00\\t\\x00\\x00\\x00\\x01\\x00\\x00\\x00X\\x007\\x00\\t\\x00\\x00\\x00\\x01\\x00\\x00\\x00\\x04\\x00:\\x00\\t\\x00\\x00\\x00\\x01\\x00\\x00\\x00u\\x00;\\x00\\t\\x00\\x00\\x00\\x01\\x00\\x00\\x00\\x00\\x00<\\x00\\t\\x00\\x00\\x00\\x01\\x00\\x00\\x00\\x04\\x00@\\x00\\x07\\x00\\x00\\x00J\\x00\\x00\\x05d\\x00A\\x00\\t\\x00\\x00\\x00\\x01\\x00\\x00\\x00\\x00\\x00C\\x00\\t\\x00\\x00\\x00\\x01\\x00\\x00\\x00\\x00\\x00D\\x00\\t\\x00\\x00\\x00\\x01\\x00\\x00\\x00\\x00\\x00E\\x00\\t\\x00\\x00\\x00\\x01\\x00\\x00\\x00\\x00\\x00F\\x00\\t\\x00\\x00\\x00\\x01\\x00\\x00\\x00\\x00\\x00J\\x00\\t\\x00\\x00\\x00\\x01\\x00\\x00\\x00\\x02\\x00M\\x00\\n\\x00\\x00\\x00\\x01\\x00\\x00\\x05\\xae\\x00N\\x00\\x07\\x00\\x00\\x00y\\x00\\x00\\x05\\xb6\\x00O\\x00\\x07\\x00\\x00\\x00+\\x00\\x00\\x06/\\x00R\\x00\\t\\x00\\x00\\x00\\x01\\x00\\x00\\x00\\x03\\x00S\\x00\\t\\x00\\x00\\x00\\x01\\x00\\x00\\x00\\x01\\x00\\x00\\x00\\x00%\\x01\\x1a\\x012\\x01\\xad\\x01\\xf9\\x00M\\x01#\\x01\\xff\\x00\\xba\\x00R\\x00D\\x00K\\x00R\\x00Y\\x00X\\x00a\\x00,\\x01H\\x01]\\x01R\\x02\\x8b\\x017\\x01\\x15\\x01\\x81\\x00\\x1a\\x00\\x14\\x00\\x16\\x008\\x00>\\x00P\\x00d\\x00s\\x00,\\x01X\\x01\\x8f\\x01\\xb1\\x01\\xbb\\x01\\x1f\\x01\\xab\\x00a\\x00\\x89\\x00j\\x00#\\x001\\x00G\\x00@\\x00O\\x00q\\x00!\\x01P\\x01M\\x01.\\x02h\\x01\\xae\\x00a\\x00x\\x00\\x91\\x00a\\x00\\x9b\\x00a\\x00G\\x00i\\x00o\\x00G\\x00\\x11\\x019\\x01\\x14\\x01\\xba\\x01\\x8f\\x00\\x7f\\x00o\\x00i\\x00\\x9b\\x00c\\x00b\\x00j\\x00D\\x00\\x80\\x00V\\x00#\\x00\\x11\\x01S\\x01+\\x01\\xb8\\x00\\x17\\x01\\xa3\\x00\\x9e\\x00\\x82\\x00g\\x00d\\x00l\\x00D\\x00N\\x00N\\x00w\\x00e\\x00\\x15\\x01^\\x01,\\x01\\xf9\\x00\\xdc\\x00v\\x01%\\x01\\xd5\\x00>\\x00+\\x00+\\x00\\x1d\\x00\\x1d\\x003\\x00-\\x00%\\x00\\x14\\x01\\\\\\x01\\xee\\x00\\xde\\x00\\x1e\\x01w\\x01K\\x01\\xfa\\x00`\\x00%\\x00!\\x00\\x1e\\x00\\x1e\\x00\\x18\\x00>\\x00\"\\x00\\x0f\\x01[\\x01\\xd8\\x00\\xe1\\x00\\xeb\\x00z\\x01!\\x01\\xdf\\x00F\\x00\\x18\\x00\\x15\\x00\\x15\\x00\\x17\\x00\\x0e\\x009\\x00#\\x00\\x15\\x01q\\x01\\x07\\x01\\'\\x005\\x00C\\x00@\\x00E\\x00\\x1a\\x00\\x10\\x00\\x15\\x00\\x18\\x00\\x1a\\x00\\x1a\\x00\\'\\x00(\\x00\\x18\\x01w\\x01\\x19\\x01I\\x00P\\x00\\x95\\x00\\xad\\x00l\\x00/\\x00\\r\\x00\\x0f\\x00\\x12\\x00\\x15\\x00\\x12\\x00!\\x00(\\x00\\x19\\x01a\\x01\\x11\\x01\\xed\\x00k\\x01 \\x01Y\\x00\\xd6\\x00I\\x00\\x1e\\x00\\x0f\\x00\\x0f\\x00\\x19\\x00;\\x00`\\x00b\\x00\\x1c\\x01\\xf1\\x00~\\x00O\\x00l\\x00A\\x00S\\x00F\\x00*\\x00%\\x00\\x1f\\x00\\x18\\x00#\\x00O\\x00}\\x00V\\x00#\\x01\\xe7\\x00\\x98\\x00S\\x00K\\x00R\\x00J\\x00;\\x00!\\x00$\\x00)\\x00*\\x007\\x00P\\x00r\\x00\\x8d\\x009\\x01\\xb7\\x00U\\x00O\\x00A\\x009\\x00S\\x00G\\x00\\x1d\\x00\\x1c\\x00*\\x007\\x00?\\x00[\\x00Z\\x00}\\x00F\\x01\\x8b\\x008\\x00X\\x00S\\x00K\\x00I\\x00)\\x00!\\x00\\x1d\\x00(\\x000\\x00]\\x00_\\x00{\\x00Z\\x00bplist00\\xd4\\x01\\x02\\x03\\x04\\x05\\x06\\x07\\x08UflagsUvalueYtimescaleUepoch\\x10\\x01\\x13\\x00\\x02\\x1b\\xb6\\x99\\x01\\x9a\\x16\\x12;\\x9a\\xca\\x00\\x10\\x00\\x08\\x11\\x17\\x1d\\'-/8=\\x00\\x00\\x00\\x00\\x00\\x00\\x01\\x01\\x00\\x00\\x00\\x00\\x00\\x00\\x00\\t\\x00\\x00\\x00\\x00\\x00\\x00\\x00\\x00\\x00\\x00\\x00\\x00\\x00\\x00\\x00?\\xff\\xff\\xf9\\xdb\\x00\\x0bh\\x03\\xff\\xffi\\xb9\\x00\\x00\\x9b\\xc6\\xff\\xff\\xd6\\xd0\\x00\\x00\\xa7\\xf1\\x00\\x00\\x01S\\x00\\x00\\x01\\x00\\x00\\x00\\x02\\x13\\x00\\x00\\x01\\x00\\x00\\x00\\x00\\x00BP \\x00q750n\\x008A91190D-AE07-410F-BB00-0E5BDBE93244\\x00\\x00\\x00\\x00\\x01\\x00\\x00\\x00\\x02\\x00\\x00\\x00\\xac\\x10\\x00\\x00\\'\\x00\\x00\\x00\\x00\\x00\\x00\\x14\\x8e\\x00\\x03\\xc6\\xbf\\x00\\x00\\x1cPC6827F36-5AC6-47D8-A0C0-239EEF9ADCBF\\x00\\x00\\x00\\x00\\x00\\x00\\x00\\x00\\x01bplist00\\xd4\\x01\\x02\\x03\\x04\\x05\\x06\\x06\\x07Q3Q1Q2Q0\\x10\\x00\"\\x00\\x00\\x00\\x00\\x10\\x01\\x08\\x11\\x13\\x15\\x17\\x19\\x1b \\x00\\x00\\x00\\x00\\x00\\x00\\x01\\x01\\x00\\x00\\x00\\x00\\x00\\x00\\x00\\x08\\x00\\x00\\x00\\x00\\x00\\x00\\x00\\x00\\x00\\x00\\x00\\x00\\x00\\x00\\x00\"\\x00\\x05H\\x9d\\x00\\x00 \\x00bplist00\\xd2\\x01\\x02\\x03\\x04Q1Q2\\x10\\x01\\xa2\\x05\\n\\xd2\\x06\\x07\\x08\\tS2.1S2.2#@I\\x07\\x84\\x00\\x00\\x00\\x00#@\\xefJ@\\x00\\x00\\x00\\x00\\xd2\\x06\\x07\\x0b\\x0c#\\x00\\x00\\x00\\x00\\x00\\x00\\x00\\x00#@B\\x80\\x00\\x00\\x00\\x00\\x00\\x08\\r\\x0f\\x11\\x13\\x16\\x1b\\x1f#,5:C\\x00\\x00\\x00\\x00\\x00\\x00\\x01\\x01\\x00\\x00\\x00\\x00\\x00\\x00\\x00\\r\\x00\\x00\\x00\\x00\\x00\\x00\\x00\\x00\\x00\\x00\\x00\\x00\\x00\\x00\\x00Lbplist00\\x10\\x00\\x08\\x00\\x00\\x00\\x00\\x00\\x00\\x01\\x01\\x00\\x00\\x00\\x00\\x00\\x00\\x00\\x01\\x00\\x00\\x00\\x00\\x00\\x00\\x00\\x00\\x00\\x00\\x00\\x00\\x00\\x00\\x00\\n'\n",
      ">>>>>>>>> GPSInfo <<<<<<<<<<\n",
      "GPSLatitudeRef N\n",
      "GPSLatitude (37.0, 23.0, 9.3)\n",
      "GPSLongitudeRef W\n",
      "GPSLongitude (5.0, 58.0, 50.51)\n",
      "GPSAltitudeRef b'\\x00'\n",
      "GPSAltitude 9.50900630441309\n",
      "GPSTimeStamp (10.0, 5.0, 31.0)\n",
      "GPSSpeedRef K\n",
      "GPSSpeed 0.3699913318233929\n",
      "GPSImgDirectionRef T\n",
      "GPSImgDirection 348.0748898678414\n",
      "GPSDestBearingRef T\n",
      "GPSDestBearing 348.0748898678414\n",
      "GPSDateStamp 2024:11:02\n",
      "GPSHPositioningError 14.861897870580938\n",
      ">>>>>>>>> Makernote <<<<<<<<<<\n",
      ">>>>>>>>> Interop <<<<<<<<<<\n",
      ">>>>>>>>> IFD1 <<<<<<<<<<\n"
     ]
    }
   ],
   "source": [
    "from full_information import print_exif\n",
    "\n",
    "print_exif(\"images/IMG_5284.heic\")"
   ]
  }
 ],
 "metadata": {
  "kernelspec": {
   "display_name": "Python 3 (ipykernel)",
   "language": "python",
   "name": "python3"
  },
  "language_info": {
   "codemirror_mode": {
    "name": "ipython",
    "version": 3
   },
   "file_extension": ".py",
   "mimetype": "text/x-python",
   "name": "python",
   "nbconvert_exporter": "python",
   "pygments_lexer": "ipython3",
   "version": "3.10.12"
  }
 },
 "nbformat": 4,
 "nbformat_minor": 5
}
